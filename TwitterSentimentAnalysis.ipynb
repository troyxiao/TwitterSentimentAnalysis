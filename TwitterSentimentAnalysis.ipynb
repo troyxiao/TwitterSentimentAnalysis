{
 "cells": [
  {
   "cell_type": "code",
   "execution_count": 1,
   "metadata": {},
   "outputs": [
    {
     "name": "stderr",
     "output_type": "stream",
     "text": [
      "Using TensorFlow backend.\n"
     ]
    }
   ],
   "source": [
    "#Import libraries\n",
    "import re\n",
    "import numpy as np \n",
    "import pandas as pd\n",
    "import matplotlib.pyplot as plt\n",
    "from tqdm import tqdm\n",
    "tqdm.pandas(desc=\"progress-bar\")\n",
    "\n",
    "from sklearn.utils import shuffle\n",
    "from sklearn.svm import LinearSVC\n",
    "from sklearn.naive_bayes import MultinomialNB\n",
    "from sklearn.linear_model import LogisticRegression\n",
    "from sklearn.preprocessing import MinMaxScaler, scale\n",
    "from sklearn.feature_extraction.text import TfidfVectorizer\n",
    "from sklearn.feature_selection.univariate_selection import chi2, SelectKBest\n",
    "from sklearn.model_selection import train_test_split, cross_val_score\n",
    "from sklearn.metrics import f1_score, precision_score, recall_score, accuracy_score, confusion_matrix, \\\n",
    "                            precision_recall_fscore_support, precision_recall_curve, roc_curve, auc\n",
    "\n",
    "from keras import backend as K\n",
    "from keras.preprocessing import sequence\n",
    "from keras.preprocessing.text import Tokenizer\n",
    "from keras.callbacks import ModelCheckpoint, CSVLogger, EarlyStopping, Callback\n",
    "from keras.models import Sequential\n",
    "from keras.layers import Dense, Flatten, LSTM, Conv1D, MaxPooling1D, Dropout, Activation\n",
    "from keras.layers.embeddings import Embedding\n",
    "\n",
    "from nltk.tokenize import word_tokenize\n",
    "from nltk.stem import WordNetLemmatizer\n",
    "from nltk.tokenize import RegexpTokenizer\n",
    "\n",
    "from string import punctuation\n",
    "import gensim\n",
    "from gensim.models.word2vec import Word2Vec \n",
    "\n",
    "from nltk.tokenize import TweetTokenizer # a tweet tokenizer from nltk.\n",
    "tokenizer = TweetTokenizer()"
   ]
  },
  {
   "cell_type": "markdown",
   "metadata": {},
   "source": [
    "## Preprocessing"
   ]
  },
  {
   "cell_type": "code",
   "execution_count": 2,
   "metadata": {},
   "outputs": [
    {
     "data": {
      "text/html": [
       "<div>\n",
       "<style scoped>\n",
       "    .dataframe tbody tr th:only-of-type {\n",
       "        vertical-align: middle;\n",
       "    }\n",
       "\n",
       "    .dataframe tbody tr th {\n",
       "        vertical-align: top;\n",
       "    }\n",
       "\n",
       "    .dataframe thead th {\n",
       "        text-align: right;\n",
       "    }\n",
       "</style>\n",
       "<table border=\"1\" class=\"dataframe\">\n",
       "  <thead>\n",
       "    <tr style=\"text-align: right;\">\n",
       "      <th></th>\n",
       "      <th>label</th>\n",
       "      <th>text</th>\n",
       "    </tr>\n",
       "  </thead>\n",
       "  <tbody>\n",
       "    <tr>\n",
       "      <th>536954</th>\n",
       "      <td>0</td>\n",
       "      <td>Very upset that i couldn't get a ticket for th...</td>\n",
       "    </tr>\n",
       "    <tr>\n",
       "      <th>686871</th>\n",
       "      <td>0</td>\n",
       "      <td>i'm not allowed out today cause i have to pack...</td>\n",
       "    </tr>\n",
       "    <tr>\n",
       "      <th>830678</th>\n",
       "      <td>1</td>\n",
       "      <td>@xxmarypoppinsxx *waves* Hello there!</td>\n",
       "    </tr>\n",
       "    <tr>\n",
       "      <th>1464387</th>\n",
       "      <td>1</td>\n",
       "      <td>@snw It gets annoying to me after few minutes</td>\n",
       "    </tr>\n",
       "    <tr>\n",
       "      <th>750757</th>\n",
       "      <td>0</td>\n",
       "      <td>checking out craigslist since i lost my job to...</td>\n",
       "    </tr>\n",
       "  </tbody>\n",
       "</table>\n",
       "</div>"
      ],
      "text/plain": [
       "         label                                               text\n",
       "536954       0  Very upset that i couldn't get a ticket for th...\n",
       "686871       0  i'm not allowed out today cause i have to pack...\n",
       "830678       1             @xxmarypoppinsxx *waves* Hello there! \n",
       "1464387      1     @snw It gets annoying to me after few minutes \n",
       "750757       0  checking out craigslist since i lost my job to..."
      ]
     },
     "execution_count": 2,
     "metadata": {},
     "output_type": "execute_result"
    }
   ],
   "source": [
    "# Import dataset and keep texts and their labels\n",
    "df = pd.read_csv(\"./training.1600000.processed.noemoticon.csv\",encoding=\"ISO-8859-1\",names = [\"label\", \"ids\", \"date\", \"flag\",\"user\", \"text\"])\n",
    "df = df.drop([\"ids\", \"date\", \"flag\", \"user\"], axis = 1)\n",
    "df.loc[df.label == 4, 'label'] = 1\n",
    "df = shuffle(df)\n",
    "df.head(5)"
   ]
  },
  {
   "cell_type": "code",
   "execution_count": 3,
   "metadata": {},
   "outputs": [
    {
     "data": {
      "text/plain": [
       "1    800000\n",
       "0    800000\n",
       "Name: label, dtype: int64"
      ]
     },
     "execution_count": 3,
     "metadata": {},
     "output_type": "execute_result"
    }
   ],
   "source": [
    "df.label.value_counts()"
   ]
  },
  {
   "cell_type": "code",
   "execution_count": 4,
   "metadata": {},
   "outputs": [],
   "source": [
    "# Preprocess tweets, part of code for this function is adapted from Kaggle Kernal: \n",
    "# https://www.kaggle.com/mistryjimit26/twitter-sentiment-analysis-basic\n",
    "def preprocess_tweet(tweet):\n",
    "    #convert the tweet to lower case\n",
    "    tweet.lower()\n",
    "    #convert all urls to sting \"URL\"\n",
    "    tweet = re.sub('((www\\.[^\\s]+)|(https?://[^\\s]+))','URL',tweet)\n",
    "    #convert all @username to \"AT_USER\"\n",
    "    tweet = re.sub('@[^\\s]+','AT_USER', tweet)\n",
    "    #correct all multiple white spaces to a single white space\n",
    "    tweet = re.sub('[\\s]+', ' ', tweet)\n",
    "    #convert \"#topic\" to just \"topic\"\n",
    "    tweet = re.sub(r'#([^\\s]+)', r'\\1', tweet)\n",
    "    return tweet"
   ]
  },
  {
   "cell_type": "code",
   "execution_count": 5,
   "metadata": {},
   "outputs": [
    {
     "name": "stdout",
     "output_type": "stream",
     "text": [
      "this made my year already: &quot;Thank you, J! You are a star! &quot; -- duncan jones \n",
      "had a great day, went shoppin, college 2moz sud b \n",
      "whyareyoustillhere &lt;---starting that one later hahah im off web moblie time \n",
      "AT_USER here she is AT_USER\n",
      "AT_USER but it never gets old.\n"
     ]
    }
   ],
   "source": [
    "tweets = np.array(df['text'].apply(preprocess_tweet))\n",
    "sentiment = np.array(df.label)\n",
    "\n",
    "#split the data into training and tesing set\n",
    "X_train, X_test, y_train, y_test = train_test_split(tweets, sentiment, test_size = 0.20, random_state= 1) \n",
    "\n",
    "#example tweets after preprocessing\n",
    "for i in range(5):\n",
    "    print(X_train[i])"
   ]
  },
  {
   "cell_type": "code",
   "execution_count": 6,
   "metadata": {},
   "outputs": [],
   "source": [
    "# Use TF-IDF vectorizer to transfer cleaned tweets to feature vectors\n",
    "tfv=TfidfVectorizer(min_df=0, max_features=None, strip_accents='unicode',lowercase =True,\n",
    "                    analyzer='word', ngram_range=(1,2), use_idf=True,smooth_idf=True, \n",
    "                    sublinear_tf=True, stop_words = \"english\") \n",
    "X_train_vec = tfv.fit_transform(X_train)\n",
    "X_test_vec = tfv.transform(X_test)"
   ]
  },
  {
   "cell_type": "code",
   "execution_count": 7,
   "metadata": {},
   "outputs": [],
   "source": [
    "# Tokenize and lemmatize tweets\n",
    "lemmatizer = WordNetLemmatizer() \n",
    "tokenized_tweets =[]\n",
    "\n",
    "for tweet in tweets:  \n",
    "    tokens = tokenizer.tokenize(tweet)\n",
    "    x = [lemmatizer.lemmatize(token) for token in tokens] \n",
    "    z = \" \".join(x)\n",
    "    tokenized_tweets.append(z)\n",
    "    \n",
    "X_train_TL, X_test_TL, y_train_TL, y_test_TL = train_test_split(tokenized_tweets, sentiment, test_size = 0.20, random_state=123)"
   ]
  },
  {
   "cell_type": "code",
   "execution_count": 8,
   "metadata": {},
   "outputs": [],
   "source": [
    "# Use TF-IDF vectorizer to transform tokenized and Lemmatized tweets to feature vectors\n",
    "tfv=TfidfVectorizer(min_df=0, max_features=None, strip_accents='unicode',lowercase =True,\n",
    "                    analyzer='word', ngram_range=(1,2), use_idf=True,smooth_idf=True, \n",
    "                    sublinear_tf=True, stop_words = \"english\")\n",
    "X_trainTL_vec = tfv.fit_transform(X_train_TL)\n",
    "X_testTL_vec = tfv.transform(X_test_TL)"
   ]
  },
  {
   "cell_type": "markdown",
   "metadata": {},
   "source": [
    "## Naive Bayes"
   ]
  },
  {
   "cell_type": "code",
   "execution_count": 9,
   "metadata": {},
   "outputs": [
    {
     "name": "stdout",
     "output_type": "stream",
     "text": [
      "('The accuracy of Naive Bayes after tokenization and lemmatization is:', 0.7758328131781191)\n",
      "('The weighted F1 score of Naive Bayes after tokenization and lemmatization is:', 0.7764740611928878)\n"
     ]
    }
   ],
   "source": [
    "# Apply Naive Bayes model on tokenized and Lemmatized tweets\n",
    "nb = MultinomialNB(alpha = 10)\n",
    "nb.fit(X_trainTL_vec, y_train_TL)\n",
    "y_pred_nb = nb.predict(X_testTL_vec)\n",
    "\n",
    "acc_nb = cross_val_score(estimator=nb, X=X_trainTL_vec, y=y_train_TL, cv=10).mean()\n",
    "precision, recall, f1, _ = precision_recall_fscore_support(y_test_TL, y_pred_nb, average='weighted')\n",
    "print(\"The accuracy of Naive Bayes after tokenization and lemmatization is:\", acc_nb)\n",
    "print(\"The weighted F1 score of Naive Bayes after tokenization and lemmatization is:\", f1)"
   ]
  },
  {
   "cell_type": "code",
   "execution_count": 10,
   "metadata": {},
   "outputs": [
    {
     "name": "stdout",
     "output_type": "stream",
     "text": [
      "('The accuracy of Naive Bayes is:', 0.7761257807712064)\n",
      "('The weighted F1 score of Naive Bayes is:', 0.7765079828632501)\n"
     ]
    }
   ],
   "source": [
    "# Apply Naive Bayes model on preprocssed tweets without tokenization and lemmatization,\n",
    "# Model seems performs a little bit better on tweets without tokenization and lemmatization.\n",
    "nb = MultinomialNB(alpha = 10)\n",
    "nb.fit(X_train_vec, y_train)\n",
    "y_pred_nb = nb.predict(X_test_vec)\n",
    "\n",
    "print(\"The accuracy of Naive Bayes is:\", cross_val_score(estimator=nb, X=X_train_vec, y=y_train, cv=10).mean())\n",
    "print(\"The weighted F1 score of Naive Bayes is:\", f1_score(y_test, y_pred_nb,average='weighted'))"
   ]
  },
  {
   "cell_type": "code",
   "execution_count": 11,
   "metadata": {},
   "outputs": [
    {
     "data": {
      "text/plain": [
       "array([[123611,  36578],\n",
       "       [ 34938, 124873]])"
      ]
     },
     "execution_count": 11,
     "metadata": {},
     "output_type": "execute_result"
    }
   ],
   "source": [
    "# Show confusion matrix\n",
    "confusion_matrix(y_test, y_pred_nb)"
   ]
  },
  {
   "cell_type": "code",
   "execution_count": 12,
   "metadata": {},
   "outputs": [
    {
     "name": "stdout",
     "output_type": "stream",
     "text": [
      "('The accuracy of Naive Bayes is:', 0.7151679679957905)\n",
      "('The weighted F1 score of Naive Bayes is:', 0.7122899736611189)\n"
     ]
    }
   ],
   "source": [
    "# Add chi-squared as dimensional reduction, but results are not improved. \n",
    "fselect = SelectKBest(chi2, k=300)\n",
    "train_vec = fselect.fit_transform(X_train_vec, y_train)\n",
    "test_vec = fselect.transform(X_test_vec)\n",
    "\n",
    "nb = MultinomialNB(alpha = 10)\n",
    "nb.fit(train_vec, y_train)\n",
    "y_pred_nb = nb.predict(test_vec)\n",
    "\n",
    "print(\"The accuracy of Naive Bayes is:\", cross_val_score(estimator=nb, X=train_vec, y=y_train, cv=10).mean())\n",
    "print(\"The weighted F1 score of Naive Bayes is:\",f1_score(y_test, y_pred_nb,average='weighted'))"
   ]
  },
  {
   "cell_type": "markdown",
   "metadata": {},
   "source": [
    "## Logistic Regression"
   ]
  },
  {
   "cell_type": "code",
   "execution_count": 13,
   "metadata": {},
   "outputs": [
    {
     "name": "stdout",
     "output_type": "stream",
     "text": [
      "('The accuracy of logistic regression is:', 0.7905429697153525)\n",
      "('The weighted f1 score of logistic regression is:', 0.7904216203618696)\n"
     ]
    }
   ],
   "source": [
    "# Use TF-IDF as vector type and logistic regression model to \n",
    "# classify sentiment of tokenized and Lemmatized tweets \n",
    "lg = LogisticRegression(C = 1.1)\n",
    "lg.fit(X_trainTL_vec, y_train_TL)\n",
    "y_pred_lg = lg.predict(X_testTL_vec)\n",
    "\n",
    "print(\"The accuracy of logistic regression is:\", cross_val_score(estimator=lg, X=X_trainTL_vec, y=y_train_TL, cv=10).mean())\n",
    "print(\"The weighted f1 score of logistic regression is:\", f1_score(y_test_TL, y_pred_lg,average='weighted'))"
   ]
  },
  {
   "cell_type": "code",
   "execution_count": 14,
   "metadata": {},
   "outputs": [
    {
     "name": "stdout",
     "output_type": "stream",
     "text": [
      "('The accuracy of logistic regression is:', 0.790636717618309)\n",
      "('The weighted f1 score of logistic regression is:', 0.7918462903049627)\n"
     ]
    }
   ],
   "source": [
    "# Use TF-IDF as vector type and logistic regression model to \n",
    "# classify sentiment of tweets without tokenization and lemmatization\n",
    "lg = LogisticRegression(C = 1.1)\n",
    "lg.fit(X_train_vec, y_train)\n",
    "y_pred_lg = lg.predict(X_test_vec)\n",
    "\n",
    "print(\"The accuracy of logistic regression is:\", cross_val_score(estimator=lg, X=X_train_vec, y=y_train, cv=10).mean())\n",
    "print(\"The weighted f1 score of logistic regression is:\", f1_score(y_test, y_pred_lg,average='weighted'))"
   ]
  },
  {
   "cell_type": "markdown",
   "metadata": {},
   "source": [
    "## SVM"
   ]
  },
  {
   "cell_type": "code",
   "execution_count": 15,
   "metadata": {},
   "outputs": [
    {
     "name": "stdout",
     "output_type": "stream",
     "text": [
      "('The accuracy of SVM is:', 0.7826429687996282)\n",
      "('The weighted f1 score of SVM is:', 0.780981164512634)\n"
     ]
    }
   ],
   "source": [
    "# Choose TF-IDF as vector type and linear SVM to classify the  \n",
    "# sentiment of tokenized and Lemmatized tweets \n",
    "svm_clf = LinearSVC(random_state=0)\n",
    "svm_clf.fit(X_trainTL_vec, y_train_TL)\n",
    "y_pred_svm = svm_clf.predict(X_testTL_vec)\n",
    "\n",
    "print(\"The accuracy of SVM is:\", cross_val_score(estimator=svm_clf, X=X_trainTL_vec, y=y_train_TL, cv=10).mean())\n",
    "print(\"The weighted f1 score of SVM is:\", f1_score(y_test_TL, y_pred_svm,average='weighted'))"
   ]
  },
  {
   "cell_type": "code",
   "execution_count": 16,
   "metadata": {},
   "outputs": [
    {
     "name": "stdout",
     "output_type": "stream",
     "text": [
      "('The accuracy of SVM is:', 0.7827984367466316)\n",
      "('The weighted f1 score of SVM is:', 0.7836368549409454)\n"
     ]
    }
   ],
   "source": [
    "# Choose TF-IDF as vector type and linear SVM to classify the  \n",
    "# sentiment of tweets without tokenization and lemmatization\n",
    "svm_clf = LinearSVC(random_state=0)\n",
    "svm_clf.fit(X_train_vec, y_train)\n",
    "y_pred_svm = svm_clf.predict(X_test_vec)\n",
    "\n",
    "print(\"The accuracy of SVM is:\", cross_val_score(estimator=svm_clf, X=X_train_vec, y=y_train, cv=10).mean())\n",
    "print(\"The weighted f1 score of SVM is:\", f1_score(y_test, y_pred_svm,average='weighted'))"
   ]
  },
  {
   "cell_type": "markdown",
   "metadata": {},
   "source": [
    "## Convolutional Neural Network (CNN)"
   ]
  },
  {
   "cell_type": "code",
   "execution_count": 33,
   "metadata": {},
   "outputs": [],
   "source": [
    "def f1(y_true, y_pred):\n",
    "    def recall(y_true, y_pred):\n",
    "        \"\"\"Recall metric.\n",
    "\n",
    "        Only computes a batch-wise average of recall.\n",
    "\n",
    "        Computes the recall, a metric for multi-label classification of\n",
    "        how many relevant items are selected.\n",
    "        \"\"\"\n",
    "        true_positives = K.sum(K.round(K.clip(y_true * y_pred, 0, 1)))\n",
    "        possible_positives = K.sum(K.round(K.clip(y_true, 0, 1)))\n",
    "        recall = true_positives / (possible_positives + K.epsilon())\n",
    "        return recall\n",
    "\n",
    "    def precision(y_true, y_pred):\n",
    "        \"\"\"Precision metric.\n",
    "\n",
    "        Only computes a batch-wise average of precision.\n",
    "\n",
    "        Computes the precision, a metric for multi-label classification of\n",
    "        how many selected items are relevant.\n",
    "        \"\"\"\n",
    "        true_positives = K.sum(K.round(K.clip(y_true * y_pred, 0, 1)))\n",
    "        predicted_positives = K.sum(K.round(K.clip(y_pred, 0, 1)))\n",
    "        precision = true_positives / (predicted_positives + K.epsilon())\n",
    "        return precision\n",
    "    precision = precision(y_true, y_pred)\n",
    "    recall = recall(y_true, y_pred)\n",
    "    return 2*((precision*recall)/(precision+recall+K.epsilon()))"
   ]
  },
  {
   "cell_type": "code",
   "execution_count": 52,
   "metadata": {},
   "outputs": [
    {
     "name": "stdout",
     "output_type": "stream",
     "text": [
      "((1280000, 20), (1280000,))\n"
     ]
    }
   ],
   "source": [
    "kerasTokenizer = Tokenizer(num_words=400000)\n",
    "kerasTokenizer.fit_on_texts(X_train)\n",
    "t = kerasTokenizer.texts_to_sequences(X_train)\n",
    "X = np.array(sequence.pad_sequences(t, maxlen=20, padding='post'))\n",
    "\n",
    "print(X.shape, y_train.shape)"
   ]
  },
  {
   "cell_type": "code",
   "execution_count": 59,
   "metadata": {},
   "outputs": [
    {
     "name": "stdout",
     "output_type": "stream",
     "text": [
      "_________________________________________________________________\n",
      "Layer (type)                 Output Shape              Param #   \n",
      "=================================================================\n",
      "embedding_6 (Embedding)      (None, 20, 32)            12800000  \n",
      "_________________________________________________________________\n",
      "conv1d_19 (Conv1D)           (None, 20, 256)           57600     \n",
      "_________________________________________________________________\n",
      "max_pooling1d_19 (MaxPooling (None, 10, 256)           0         \n",
      "_________________________________________________________________\n",
      "dropout_19 (Dropout)         (None, 10, 256)           0         \n",
      "_________________________________________________________________\n",
      "conv1d_20 (Conv1D)           (None, 10, 128)           163968    \n",
      "_________________________________________________________________\n",
      "max_pooling1d_20 (MaxPooling (None, 5, 128)            0         \n",
      "_________________________________________________________________\n",
      "dropout_20 (Dropout)         (None, 5, 128)            0         \n",
      "_________________________________________________________________\n",
      "conv1d_21 (Conv1D)           (None, 5, 64)             49216     \n",
      "_________________________________________________________________\n",
      "max_pooling1d_21 (MaxPooling (None, 2, 64)             0         \n",
      "_________________________________________________________________\n",
      "dropout_21 (Dropout)         (None, 2, 64)             0         \n",
      "_________________________________________________________________\n",
      "conv1d_22 (Conv1D)           (None, 2, 32)             16416     \n",
      "_________________________________________________________________\n",
      "max_pooling1d_22 (MaxPooling (None, 1, 32)             0         \n",
      "_________________________________________________________________\n",
      "dropout_22 (Dropout)         (None, 1, 32)             0         \n",
      "_________________________________________________________________\n",
      "flatten_6 (Flatten)          (None, 32)                0         \n",
      "_________________________________________________________________\n",
      "dense_6 (Dense)              (None, 5)                 165       \n",
      "_________________________________________________________________\n",
      "dropout_23 (Dropout)         (None, 5)                 0         \n",
      "_________________________________________________________________\n",
      "dense_7 (Dense)              (None, 1)                 6         \n",
      "=================================================================\n",
      "Total params: 13,087,371\n",
      "Trainable params: 13,087,371\n",
      "Non-trainable params: 0\n",
      "_________________________________________________________________\n"
     ]
    }
   ],
   "source": [
    "model = Sequential()\n",
    "model.add(Embedding(400000, 32, input_length=20))\n",
    "model.add(Conv1D(filters=256, kernel_size=5, padding='same', activation='relu'))\n",
    "model.add(MaxPooling1D(pool_size=2))\n",
    "model.add(Dropout(0.2))\n",
    "\n",
    "model.add(Conv1D(filters=128, kernel_size=6, padding='same', activation='relu'))\n",
    "model.add(MaxPooling1D(pool_size=2))\n",
    "model.add(Dropout(0.2))\n",
    "\n",
    "model.add(Conv1D(filters=64, kernel_size=7, padding='same', activation='relu'))\n",
    "model.add(MaxPooling1D(pool_size=2))\n",
    "model.add(Dropout(0.2))\n",
    "\n",
    "model.add(Conv1D(filters=32, kernel_size=8, padding='same', activation='relu'))\n",
    "model.add(MaxPooling1D(pool_size=2))\n",
    "model.add(Dropout(0.2))\n",
    "model.add(Flatten())\n",
    "model.add(Dense(5,activation='sigmoid'))\n",
    "model.add(Dropout(0.2))\n",
    "model.add(Dense(1,activation='sigmoid'))\n",
    "model.summary()\n",
    "\n",
    "model.compile(loss='binary_crossentropy', optimizer='adam', metrics=['accuracy',f1])"
   ]
  },
  {
   "cell_type": "code",
   "execution_count": 60,
   "metadata": {},
   "outputs": [
    {
     "name": "stdout",
     "output_type": "stream",
     "text": [
      "Train on 1024000 samples, validate on 256000 samples\n",
      "Epoch 1/5\n",
      "1024000/1024000 [==============================] - 1896s 2ms/step - loss: 0.4576 - acc: 0.7932 - f1: 0.7839 - val_loss: 0.3980 - val_acc: 0.8198 - val_f1: 0.8158\n",
      "\n",
      "Epoch 00001: val_loss improved from inf to 0.39799, saving model to ./best_model_.hdf5\n",
      "Epoch 2/5\n",
      "1024000/1024000 [==============================] - 1975s 2ms/step - loss: 0.3859 - acc: 0.8340 - f1: 0.8280 - val_loss: 0.3968 - val_acc: 0.8203 - val_f1: 0.8094\n",
      "\n",
      "Epoch 00002: val_loss improved from 0.39799 to 0.39678, saving model to ./best_model_.hdf5\n",
      "Epoch 3/5\n",
      "1024000/1024000 [==============================] - 1908s 2ms/step - loss: 0.3440 - acc: 0.8572 - f1: 0.8523 - val_loss: 0.4032 - val_acc: 0.8200 - val_f1: 0.8191\n",
      "\n",
      "Epoch 00003: val_loss did not improve from 0.39678\n",
      "Epoch 4/5\n",
      "1024000/1024000 [==============================] - 1869s 2ms/step - loss: 0.3084 - acc: 0.8751 - f1: 0.8710 - val_loss: 0.4377 - val_acc: 0.8156 - val_f1: 0.8149\n",
      "\n",
      "Epoch 00004: val_loss did not improve from 0.39678\n",
      "Epoch 5/5\n",
      "1024000/1024000 [==============================] - 1872s 2ms/step - loss: 0.2791 - acc: 0.8892 - f1: 0.8858 - val_loss: 0.4553 - val_acc: 0.8122 - val_f1: 0.8102\n",
      "\n",
      "Epoch 00005: val_loss did not improve from 0.39678\n"
     ]
    }
   ],
   "source": [
    "checkpoint = ModelCheckpoint(filepath='./best_model.hdf5', verbose=1, save_best_only=True)\n",
    "\n",
    "history = model.fit(X, y_train, \n",
    "                    batch_size=128, \n",
    "                    verbose=1, \n",
    "                    validation_split=0.2, \n",
    "                    epochs=5, \n",
    "                    callbacks = [checkpoint])"
   ]
  },
  {
   "cell_type": "code",
   "execution_count": 62,
   "metadata": {},
   "outputs": [],
   "source": [
    "def adjusted_classes(prediction, t):\n",
    "    \"\"\"\n",
    "    This function adjusts class predictions based on the prediction threshold (t).\n",
    "    Will only work for binary classification problems.\n",
    "    \"\"\"\n",
    "    return [1 if y >= t else 0 for y in prediction]\n",
    "\n",
    "def precision_recall_threshold(p, r, thresholds, t=0.5):\n",
    "    \"\"\"\n",
    "    plots the precision recall curve and shows the current value for each\n",
    "    by identifying the classifier's threshold (t).\n",
    "    \"\"\"\n",
    "    \n",
    "    # generate new class predictions based on the adjusted_classes\n",
    "    # function above and view the resulting confusion matrix.\n",
    "    y_pred_adj = adjusted_classes(prediction, t)\n",
    "    print(pd.DataFrame(confusion_matrix(y_test, y_pred_adj),\n",
    "                       columns=['pred_neg', 'pred_pos'], \n",
    "                       index=['neg', 'pos']))\n",
    "    \n",
    "    # plot the curve\n",
    "    plt.figure(figsize=(8,8))\n",
    "    plt.title(\"Precision and Recall curve ^ = current threshold\")\n",
    "    plt.step(r, p, color='b', alpha=0.2,\n",
    "             where='post')\n",
    "    plt.fill_between(r, p, step='post', alpha=0.2,\n",
    "                     color='b')\n",
    "    plt.ylim([0.5, 1.01]);\n",
    "    plt.xlim([0.5, 1.01]);\n",
    "    plt.xlabel('Recall');\n",
    "    plt.ylabel('Precision');\n",
    "    \n",
    "    # plot the current threshold on the line\n",
    "    close_default_clf = np.argmin(np.abs(thresholds - t))\n",
    "    plt.plot(r[close_default_clf], p[close_default_clf], '^', c='k', markersize=15)\n",
    "    \n",
    "def plot_precision_recall_vs_threshold(precisions, recalls, thresholds):\n",
    "    \"\"\"\n",
    "    Modified from:\n",
    "    Hands-On Machine learning with Scikit-Learn\n",
    "    and TensorFlow; p.89\n",
    "    \"\"\"\n",
    "    plt.figure(figsize=(8, 8))\n",
    "    plt.title(\"Precision and Recall Scores as a function of the decision threshold\")\n",
    "    plt.plot(thresholds, precisions[:-1], \"b--\", label=\"Precision\")\n",
    "    plt.plot(thresholds, recalls[:-1], \"g-\", label=\"Recall\")\n",
    "    plt.ylabel(\"Score\")\n",
    "    plt.xlabel(\"Decision Threshold\")\n",
    "    plt.legend(loc='best')"
   ]
  },
  {
   "cell_type": "code",
   "execution_count": 65,
   "metadata": {},
   "outputs": [
    {
     "name": "stdout",
     "output_type": "stream",
     "text": [
      "     pred_neg  pred_pos\n",
      "neg    130820     29369\n",
      "pos     30414    129397\n"
     ]
    },
    {
     "data": {
      "image/png": "[encoded data removed]",
      "text/plain": [
       "<Figure size 576x576 with 1 Axes>"
      ]
     },
     "metadata": {
      "needs_background": "light"
     },
     "output_type": "display_data"
    },
    {
     "data": {
      "image/png": "[encoded data removed]",
      "text/plain": [
       "<Figure size 576x576 with 1 Axes>"
      ]
     },
     "metadata": {
      "needs_background": "light"
     },
     "output_type": "display_data"
    }
   ],
   "source": [
    "#kerasTokenizer.fit_on_texts(X_train)\n",
    "t = kerasTokenizer.texts_to_sequences(X_test)\n",
    "testX = np.array(sequence.pad_sequences(t, maxlen=20, padding='post'))\n",
    "prediction = model.predict(testX, batch_size=None, verbose=0, steps=None)\n",
    "\n",
    "precision, recall, thresholds = precision_recall_curve(y_test, prediction)\n",
    "precision_recall_threshold(precision, recall, thresholds, 0.5)\n",
    "plot_precision_recall_vs_threshold(precision, recall, thresholds)"
   ]
  },
  {
   "cell_type": "code",
   "execution_count": 67,
   "metadata": {},
   "outputs": [
    {
     "name": "stdout",
     "output_type": "stream",
     "text": [
      "('Accuracy: ', 0.81346875)\n",
      "('Precision: ', 0.8100162871492534)\n",
      "('Recall: ', 0.8184605565324039)\n",
      "('F1 score: ', 0.8142165284728965)\n"
     ]
    }
   ],
   "source": [
    "y_pred_adj = adjusted_classes(prediction, 0.48) \n",
    "accuracy = accuracy_score(y_test, y_pred_adj)\n",
    "precision, recall, f1_score, _ = precision_recall_fscore_support(y_test, y_pred_adj, average='binary')\n",
    " \n",
    "print(\"Accuracy: \", accuracy)\n",
    "print(\"Precision: \", precision)\n",
    "print(\"Recall: \", recall)\n",
    "print(\"F1 score: \", f1_score)"
   ]
  },
  {
   "cell_type": "markdown",
   "metadata": {},
   "source": [
    "## Recurrent Neural Networks (RNN)"
   ]
  },
  {
   "cell_type": "code",
   "execution_count": 76,
   "metadata": {},
   "outputs": [
    {
     "name": "stderr",
     "output_type": "stream",
     "text": [
      "/Users/troyxiao/anaconda2/lib/python2.7/site-packages/ipykernel_launcher.py:4: UserWarning: Update your `LSTM` call to the Keras 2 API: `LSTM(128, return_sequences=True, dropout=0.2, recurrent_dropout=0.2)`\n",
      "  after removing the cwd from sys.path.\n"
     ]
    },
    {
     "name": "stdout",
     "output_type": "stream",
     "text": [
      "_________________________________________________________________\n",
      "Layer (type)                 Output Shape              Param #   \n",
      "=================================================================\n",
      "embedding_11 (Embedding)     (None, 20, 32)            12800000  \n",
      "_________________________________________________________________\n",
      "lstm_3 (LSTM)                (None, 20, 128)           82432     \n",
      "_________________________________________________________________\n",
      "lstm_4 (LSTM)                (None, 256)               394240    \n",
      "_________________________________________________________________\n",
      "dense_12 (Dense)             (None, 1)                 257       \n",
      "=================================================================\n",
      "Total params: 13,276,929\n",
      "Trainable params: 13,276,929\n",
      "Non-trainable params: 0\n",
      "_________________________________________________________________\n"
     ]
    }
   ],
   "source": [
    "from keras import regularizers\n",
    "RNNmodel = Sequential()\n",
    "RNNmodel.add(Embedding(400000, 32, input_length=20))\n",
    "RNNmodel.add(LSTM(128, dropout_U=0.2, dropout_W=0.2, return_sequences=True))\n",
    "RNNmodel.add(LSTM(256, return_sequences=False))\n",
    "\n",
    "RNNmodel.add(Dense(1,activation='sigmoid'))\n",
    "RNNmodel.summary()\n",
    "\n",
    "RNNmodel.compile(loss='binary_crossentropy', optimizer='adam', metrics=['accuracy',f1])"
   ]
  },
  {
   "cell_type": "code",
   "execution_count": 77,
   "metadata": {},
   "outputs": [
    {
     "name": "stdout",
     "output_type": "stream",
     "text": [
      "Train on 1024000 samples, validate on 256000 samples\n",
      "Epoch 1/5\n",
      "1024000/1024000 [==============================] - 3097s 3ms/step - loss: 0.4349 - acc: 0.7982 - f1: 0.7955 - val_loss: 0.4047 - val_acc: 0.8138 - val_f1: 0.8059\n",
      "\n",
      "Epoch 00001: val_loss improved from inf to 0.40470, saving model to ./RNN_model.hdf5\n",
      "Epoch 2/5\n",
      "1024000/1024000 [==============================] - 3207s 3ms/step - loss: 0.3770 - acc: 0.8307 - f1: 0.8285 - val_loss: 0.3939 - val_acc: 0.8207 - val_f1: 0.8185\n",
      "\n",
      "Epoch 00002: val_loss improved from 0.40470 to 0.39388, saving model to ./RNN_model.hdf5\n",
      "Epoch 3/5\n",
      "1024000/1024000 [==============================] - 3053s 3ms/step - loss: 0.3463 - acc: 0.8471 - f1: 0.8452 - val_loss: 0.4003 - val_acc: 0.8196 - val_f1: 0.8143\n",
      "\n",
      "Epoch 00003: val_loss did not improve from 0.39388\n",
      "Epoch 4/5\n",
      "1024000/1024000 [==============================] - 2850s 3ms/step - loss: 0.3216 - acc: 0.8598 - f1: 0.8582 - val_loss: 0.4082 - val_acc: 0.8171 - val_f1: 0.8182\n",
      "\n",
      "Epoch 00004: val_loss did not improve from 0.39388\n",
      "Epoch 5/5\n",
      "1024000/1024000 [==============================] - 3294s 3ms/step - loss: 0.2964 - acc: 0.8724 - f1: 0.8709 - val_loss: 0.4301 - val_acc: 0.8148 - val_f1: 0.8147\n",
      "\n",
      "Epoch 00005: val_loss did not improve from 0.39388\n"
     ]
    }
   ],
   "source": [
    "checkpoint = ModelCheckpoint(filepath='./RNN_model.hdf5', verbose=1, save_best_only=True)\n",
    "\n",
    "history = RNNmodel.fit(X, y_train, \n",
    "                    batch_size=128, \n",
    "                    verbose=1, \n",
    "                    validation_split=0.2, \n",
    "                    epochs=5, \n",
    "                    callbacks = [checkpoint])"
   ]
  },
  {
   "cell_type": "code",
   "execution_count": 78,
   "metadata": {},
   "outputs": [
    {
     "name": "stdout",
     "output_type": "stream",
     "text": [
      "     pred_neg  pred_pos\n",
      "neg    129431     30758\n",
      "pos     28355    131456\n"
     ]
    },
    {
     "data": {
      "image/png": "[encoded data removed]",
      "text/plain": [
       "<Figure size 576x576 with 1 Axes>"
      ]
     },
     "metadata": {
      "needs_background": "light"
     },
     "output_type": "display_data"
    },
    {
     "data": {
      "image/png": "[encoded data removed]",
      "text/plain": [
       "<Figure size 576x576 with 1 Axes>"
      ]
     },
     "metadata": {
      "needs_background": "light"
     },
     "output_type": "display_data"
    }
   ],
   "source": [
    "t = kerasTokenizer.texts_to_sequences(X_test)\n",
    "testX = np.array(sequence.pad_sequences(t, maxlen=20, padding='post'))\n",
    "prediction = RNNmodel.predict(testX, batch_size=None, verbose=0, steps=None)\n",
    "\n",
    "precision, recall, thresholds = precision_recall_curve(y_test, prediction)\n",
    "precision_recall_threshold(precision, recall, thresholds, 0.5)\n",
    "plot_precision_recall_vs_threshold(precision, recall, thresholds)"
   ]
  },
  {
   "cell_type": "code",
   "execution_count": 81,
   "metadata": {},
   "outputs": [
    {
     "name": "stdout",
     "output_type": "stream",
     "text": [
      "('Accuracy: ', 0.815271875)\n",
      "('Precision: ', 0.8103862798525405)\n",
      "('Recall: ', 0.8225716627766549)\n",
      "('F1 score: ', 0.8164335067153171)\n"
     ]
    }
   ],
   "source": [
    "y_pred_adj = adjusted_classes(prediction, 0.5) \n",
    "accuracy = accuracy_score(y_test, y_pred_adj)\n",
    "precision, recall, f1_score, _ = precision_recall_fscore_support(y_test, y_pred_adj, average='binary')\n",
    " \n",
    "print(\"Accuracy: \", accuracy)\n",
    "print(\"Precision: \", precision)\n",
    "print(\"Recall: \", recall)\n",
    "print(\"F1 score: \", f1_score)"
   ]
  },
  {
   "cell_type": "markdown",
   "metadata": {},
   "source": [
    "## Word2Vec + Keras\n",
    "#### Following code are partially adapted from a post with some modification: https://ahmedbesbes.com/sentiment-analysis-on-twitter-using-word2vec-and-keras.html"
   ]
  },
  {
   "cell_type": "code",
   "execution_count": 26,
   "metadata": {},
   "outputs": [],
   "source": [
    "lemmatizer = WordNetLemmatizer() \n",
    "tokenized_tweets =[]\n",
    "\n",
    "for tweet in tweets:  \n",
    "    tokens = tokenizer.tokenize(tweet)\n",
    "    x = [lemmatizer.lemmatize(token) for token in tokens] \n",
    "    tokenized_tweets.append(x)\n",
    "    \n",
    "X_train_TL, X_test_TL, y_train_TL, y_test_TL = train_test_split(tokenized_tweets, sentiment, test_size = 0.20, random_state=123)"
   ]
  },
  {
   "cell_type": "code",
   "execution_count": 27,
   "metadata": {},
   "outputs": [
    {
     "name": "stderr",
     "output_type": "stream",
     "text": [
      "0it [00:00, ?it/s]/Users/troyxiao/anaconda2/lib/python2.7/site-packages/ipykernel_launcher.py:7: DeprecationWarning: Call to deprecated `LabeledSentence` (Class will be removed in 4.0.0, use TaggedDocument instead).\n",
      "  import sys\n",
      "1280000it [00:15, 81915.70it/s] \n",
      "320000it [00:02, 110512.65it/s]\n"
     ]
    }
   ],
   "source": [
    "LabeledSentence = gensim.models.doc2vec.LabeledSentence \n",
    "\n",
    "def labelizeTweets(tweets, label_type):\n",
    "    labelized = []\n",
    "    for count,value in tqdm(enumerate(tweets)):\n",
    "        label = '%s_%s'%(label_type, count)\n",
    "        labelized.append(LabeledSentence(value, [label]))\n",
    "    return labelized\n",
    "\n",
    "x_train = labelizeTweets(X_train_TL, 'TRAIN')\n",
    "x_test = labelizeTweets(X_test_TL, 'TEST')"
   ]
  },
  {
   "cell_type": "code",
   "execution_count": 28,
   "metadata": {},
   "outputs": [
    {
     "name": "stderr",
     "output_type": "stream",
     "text": [
      "100%|██████████| 1280000/1280000 [00:01<00:00, 823052.66it/s]\n",
      "100%|██████████| 1280000/1280000 [00:01<00:00, 849920.66it/s]\n",
      "/Users/troyxiao/anaconda2/lib/python2.7/site-packages/ipykernel_launcher.py:5: DeprecationWarning: Call to deprecated `iter` (Attribute will be removed in 4.0.0, use self.epochs instead).\n",
      "  \"\"\"\n"
     ]
    },
    {
     "data": {
      "text/plain": [
       "(70490305, 97628055)"
      ]
     },
     "execution_count": 28,
     "metadata": {},
     "output_type": "execute_result"
    }
   ],
   "source": [
    "n_dim = 200\n",
    "\n",
    "tweet_w2v = Word2Vec(size=n_dim, min_count=10)\n",
    "tweet_w2v.build_vocab([x.words for x in tqdm(x_train)])\n",
    "tweet_w2v.train([x.words for x in tqdm(x_train)],total_examples=tweet_w2v.corpus_count, epochs=tweet_w2v.iter)"
   ]
  },
  {
   "cell_type": "code",
   "execution_count": 29,
   "metadata": {},
   "outputs": [
    {
     "name": "stdout",
     "output_type": "stream",
     "text": [
      "building tf-idf matrix ...\n",
      "vocab size : 36502\n"
     ]
    }
   ],
   "source": [
    "print 'building tf-idf matrix ...'\n",
    "vectorizer = TfidfVectorizer(analyzer=lambda x: x, min_df=10)\n",
    "matrix = vectorizer.fit_transform([x.words for x in x_train])\n",
    "tfidf = dict(zip(vectorizer.get_feature_names(), vectorizer.idf_))\n",
    "print 'vocab size :', len(tfidf)"
   ]
  },
  {
   "cell_type": "code",
   "execution_count": 30,
   "metadata": {},
   "outputs": [],
   "source": [
    "def buildWordVector(tokens, size):\n",
    "    vec = np.zeros(size).reshape((1, size))\n",
    "    count = 0.\n",
    "    for word in tokens:\n",
    "        try:\n",
    "            vec += tweet_w2v[word].reshape((1, size)) * tfidf[word]\n",
    "            count += 1.\n",
    "        except KeyError: # handling the case where the token is not\n",
    "                         # in the corpus. useful for testing.\n",
    "            continue\n",
    "    if count != 0:\n",
    "        vec /= count\n",
    "    return vec"
   ]
  },
  {
   "cell_type": "code",
   "execution_count": 31,
   "metadata": {},
   "outputs": [
    {
     "name": "stderr",
     "output_type": "stream",
     "text": [
      "  0%|          | 0/1280000 [00:00<?, ?it/s]/Users/troyxiao/anaconda2/lib/python2.7/site-packages/ipykernel_launcher.py:6: DeprecationWarning: Call to deprecated `__getitem__` (Method will be removed in 4.0.0, use self.wv.__getitem__() instead).\n",
      "  \n",
      "100%|██████████| 1280000/1280000 [10:23<00:00, 2054.54it/s]\n",
      "100%|██████████| 320000/320000 [03:23<00:00, 1574.09it/s]\n"
     ]
    }
   ],
   "source": [
    "train_vecs_w2v = np.concatenate([buildWordVector(z, n_dim) for z in tqdm(map(lambda x: x.words, x_train))])\n",
    "train_vecs_w2v = scale(train_vecs_w2v)\n",
    "\n",
    "test_vecs_w2v = np.concatenate([buildWordVector(z, n_dim) for z in tqdm(map(lambda x: x.words, x_test))])\n",
    "test_vecs_w2v = scale(test_vecs_w2v)"
   ]
  },
  {
   "cell_type": "code",
   "execution_count": 43,
   "metadata": {},
   "outputs": [
    {
     "name": "stdout",
     "output_type": "stream",
     "text": [
      "_________________________________________________________________\n",
      "Layer (type)                 Output Shape              Param #   \n",
      "=================================================================\n",
      "dense_14 (Dense)             (None, 32)                6432      \n",
      "_________________________________________________________________\n",
      "dense_15 (Dense)             (None, 8)                 264       \n",
      "_________________________________________________________________\n",
      "dense_16 (Dense)             (None, 1)                 9         \n",
      "=================================================================\n",
      "Total params: 6,705\n",
      "Trainable params: 6,705\n",
      "Non-trainable params: 0\n",
      "_________________________________________________________________\n"
     ]
    }
   ],
   "source": [
    "model = Sequential()\n",
    "model.add(Dense(32, activation='relu', input_dim=n_dim))\n",
    "#model.add(Dropout(0.2))\n",
    "model.add(Dense(8, activation='relu'))\n",
    "model.add(Dense(1, activation='sigmoid'))\n",
    "model.compile(optimizer='adam',loss='binary_crossentropy',metrics=['accuracy', f1])\n",
    "model.summary()"
   ]
  },
  {
   "cell_type": "code",
   "execution_count": 44,
   "metadata": {},
   "outputs": [
    {
     "name": "stdout",
     "output_type": "stream",
     "text": [
      "Epoch 1/20\n",
      "1280000/1280000 [==============================] - 23s 18us/step - loss: 0.4602 - acc: 0.7805 - f1: 0.7778\n",
      "Epoch 2/20\n",
      "1280000/1280000 [==============================] - 18s 14us/step - loss: 0.4452 - acc: 0.7899 - f1: 0.7873\n",
      "Epoch 3/20\n",
      "1280000/1280000 [==============================] - 19s 15us/step - loss: 0.4410 - acc: 0.7922 - f1: 0.7897\n",
      "Epoch 4/20\n",
      "1280000/1280000 [==============================] - 19s 15us/step - loss: 0.4387 - acc: 0.7937 - f1: 0.7912\n",
      "Epoch 5/20\n",
      "1280000/1280000 [==============================] - 19s 15us/step - loss: 0.4370 - acc: 0.7947 - f1: 0.7925\n",
      "Epoch 6/20\n",
      "1280000/1280000 [==============================] - 19s 15us/step - loss: 0.4357 - acc: 0.7955 - f1: 0.7931\n",
      "Epoch 7/20\n",
      "1280000/1280000 [==============================] - 19s 15us/step - loss: 0.4347 - acc: 0.7960 - f1: 0.7936\n",
      "Epoch 8/20\n",
      "1280000/1280000 [==============================] - 19s 15us/step - loss: 0.4340 - acc: 0.7964 - f1: 0.7940\n",
      "Epoch 9/20\n",
      "1280000/1280000 [==============================] - 19s 15us/step - loss: 0.4333 - acc: 0.7966 - f1: 0.7942\n",
      "Epoch 10/20\n",
      "1280000/1280000 [==============================] - 19s 15us/step - loss: 0.4327 - acc: 0.7971 - f1: 0.7948\n",
      "Epoch 11/20\n",
      "1280000/1280000 [==============================] - 19s 15us/step - loss: 0.4323 - acc: 0.7973 - f1: 0.7949\n",
      "Epoch 12/20\n",
      "1280000/1280000 [==============================] - 19s 15us/step - loss: 0.4318 - acc: 0.7978 - f1: 0.7956\n",
      "Epoch 13/20\n",
      "1280000/1280000 [==============================] - 19s 15us/step - loss: 0.4314 - acc: 0.7977 - f1: 0.7955\n",
      "Epoch 14/20\n",
      "1280000/1280000 [==============================] - 19s 15us/step - loss: 0.4311 - acc: 0.7982 - f1: 0.7960\n",
      "Epoch 15/20\n",
      "1280000/1280000 [==============================] - 19s 15us/step - loss: 0.4309 - acc: 0.7983 - f1: 0.7961\n",
      "Epoch 16/20\n",
      "1280000/1280000 [==============================] - 20s 15us/step - loss: 0.4306 - acc: 0.7983 - f1: 0.7961\n",
      "Epoch 17/20\n",
      "1280000/1280000 [==============================] - 20s 15us/step - loss: 0.4303 - acc: 0.7986 - f1: 0.7964\n",
      "Epoch 18/20\n",
      "1280000/1280000 [==============================] - 20s 15us/step - loss: 0.4301 - acc: 0.7986 - f1: 0.7965\n",
      "Epoch 19/20\n",
      "1280000/1280000 [==============================] - 20s 15us/step - loss: 0.4300 - acc: 0.7988 - f1: 0.7966\n",
      "Epoch 20/20\n",
      "1280000/1280000 [==============================] - 20s 15us/step - loss: 0.4297 - acc: 0.7989 - f1: 0.7968\n"
     ]
    },
    {
     "data": {
      "text/plain": [
       "<keras.callbacks.History at 0x1a81af6b50>"
      ]
     },
     "execution_count": 44,
     "metadata": {},
     "output_type": "execute_result"
    }
   ],
   "source": [
    "model.fit(train_vecs_w2v, y_train_TL, epochs=20, batch_size=128, verbose=1)"
   ]
  },
  {
   "cell_type": "code",
   "execution_count": 45,
   "metadata": {},
   "outputs": [
    {
     "name": "stdout",
     "output_type": "stream",
     "text": [
      "     pred_neg  pred_pos\n",
      "neg     83418     76651\n",
      "pos     83239     76692\n"
     ]
    },
    {
     "data": {
      "image/png": "[encoded data removed]",
      "text/plain": [
       "<Figure size 576x576 with 1 Axes>"
      ]
     },
     "metadata": {
      "needs_background": "light"
     },
     "output_type": "display_data"
    },
    {
     "data": {
      "image/png": "[encoded data removed]",
      "text/plain": [
       "<Figure size 576x576 with 1 Axes>"
      ]
     },
     "metadata": {
      "needs_background": "light"
     },
     "output_type": "display_data"
    }
   ],
   "source": [
    "prediction=model.predict(test_vecs_w2v, batch_size=None, verbose=0, steps=None)\n",
    "\n",
    "precision, recall, thresholds = precision_recall_curve(y_test_TL, prediction)\n",
    "precision_recall_threshold(precision, recall, thresholds, 0.5)\n",
    "plot_precision_recall_vs_threshold(precision, recall, thresholds)"
   ]
  },
  {
   "cell_type": "code",
   "execution_count": 53,
   "metadata": {},
   "outputs": [
    {
     "name": "stdout",
     "output_type": "stream",
     "text": [
      "('Accuracy: ', 0.79453125)\n",
      "('Precision: ', 0.7907326027702064)\n",
      "('Recall: ', 0.8004592465603434)\n",
      "('F1 score: ', 0.7955661961320815)\n"
     ]
    }
   ],
   "source": [
    "y_pred_adj = adjusted_classes(prediction, 0.46) \n",
    "accuracy = accuracy_score(y_test_TL, y_pred_adj)\n",
    "precision, recall, f1_score, _ = precision_recall_fscore_support(y_test_TL, y_pred_adj, average='binary')\n",
    " \n",
    "print(\"Accuracy: \", accuracy)\n",
    "print(\"Precision: \", precision)\n",
    "print(\"Recall: \", recall)\n",
    "print(\"F1 score: \", f1_score)"
   ]
  },
  {
   "cell_type": "code",
   "execution_count": null,
   "metadata": {},
   "outputs": [],
   "source": []
  }
 ],
 "metadata": {
  "kernelspec": {
   "display_name": "Python 3",
   "language": "python",
   "name": "python3"
  },
  "language_info": {
   "codemirror_mode": {
    "name": "ipython",
    "version": 2
   },
   "file_extension": ".py",
   "mimetype": "text/x-python",
   "name": "python",
   "nbconvert_exporter": "python",
   "pygments_lexer": "ipython2",
   "version": "2.7.15"
  }
 },
 "nbformat": 4,
 "nbformat_minor": 2
}
